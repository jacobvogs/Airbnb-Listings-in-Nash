{
 "cells": [
  {
   "cell_type": "code",
   "execution_count": 2,
   "id": "1d6e5b92-c3eb-4cac-9289-807c3b572552",
   "metadata": {},
   "outputs": [
    {
     "name": "stdout",
     "output_type": "stream",
     "text": [
      "Requirement already satisfied: geojson in /opt/anaconda3/lib/python3.12/site-packages (3.2.0)\n",
      "Note: you may need to restart the kernel to use updated packages.\n"
     ]
    }
   ],
   "source": [
    "pip install geojson"
   ]
  },
  {
   "cell_type": "code",
   "execution_count": null,
   "id": "4083b27e-0fe2-4c56-b3e8-f5680be0cfa7",
   "metadata": {},
   "outputs": [
    {
     "name": "stdout",
     "output_type": "stream",
     "text": [
      "Channels:\n",
      " - defaults\n",
      "Platform: osx-64\n",
      "doneecting package metadata (repodata.json): - \n",
      "- lving environment: | "
     ]
    }
   ],
   "source": [
    "%conda install folium"
   ]
  },
  {
   "cell_type": "code",
   "execution_count": null,
   "id": "a87227cd-f983-4f84-a833-7f0c9bf7d9c0",
   "metadata": {},
   "outputs": [],
   "source": [
    "import pandas as pd\n",
    "import numpy as np\n",
    "import matplotlib.pyplot as plt\n",
    "import matplotlib.pyplot as plt\n",
    "import folium\n",
    "from folium.plugins import FastMarkerCluster\n",
    "from geopy.geocoders import Nominatim\n",
    "from geopy.extra.rate_limiter import RateLimiter\n",
    "from bs4 import BeautifulSoup\n",
    "import time # For adding a delay between requests\n",
    "import random # For randomizing delay\n",
    "import requests"
   ]
  },
  {
   "cell_type": "code",
   "execution_count": null,
   "id": "c329bdb1-46e4-4f35-b03e-7095a3ef56b6",
   "metadata": {},
   "outputs": [],
   "source": []
  },
  {
   "cell_type": "code",
   "execution_count": null,
   "id": "ef3e6121-37f3-4eac-863d-75c80eea0fb0",
   "metadata": {},
   "outputs": [],
   "source": [
    "nash_list = pd.read_csv('../data/listings.csv')"
   ]
  },
  {
   "cell_type": "code",
   "execution_count": null,
   "id": "e796633f-a9f3-4986-b784-cb55cec51993",
   "metadata": {
    "scrolled": true
   },
   "outputs": [],
   "source": [
    "nash_list.info()"
   ]
  },
  {
   "cell_type": "code",
   "execution_count": null,
   "id": "98bb6381-e005-485b-a935-e099c18a3c4c",
   "metadata": {},
   "outputs": [],
   "source": [
    "nash_list[['latitude','longitude']].head(50)"
   ]
  },
  {
   "cell_type": "code",
   "execution_count": null,
   "id": "8ed5c13f-55a6-472a-b146-77d4133dd8c5",
   "metadata": {},
   "outputs": [],
   "source": [
    "nash_list.loc[nash_list['minimum_minimum_nights']>=30]"
   ]
  },
  {
   "cell_type": "code",
   "execution_count": null,
   "id": "97647679-096c-4c25-856a-e63592fa9d42",
   "metadata": {},
   "outputs": [],
   "source": [
    "nash_review = pd.read_csv('../data/reviews.csv')"
   ]
  },
  {
   "cell_type": "code",
   "execution_count": null,
   "id": "0b199bec-e594-45bc-8e8b-68110e3e691f",
   "metadata": {},
   "outputs": [],
   "source": [
    "minof30ni = nash_list.loc[nash_list['minimum_nights'] >= 30]\n",
    "minof30ni"
   ]
  },
  {
   "cell_type": "code",
   "execution_count": null,
   "id": "a0ee3f4b-cb98-49df-9eda-9e0dc06650c0",
   "metadata": {},
   "outputs": [],
   "source": []
  },
  {
   "cell_type": "code",
   "execution_count": null,
   "id": "d31592b0-bc87-4d42-8fa0-37b32cb18f45",
   "metadata": {},
   "outputs": [],
   "source": [
    "len(set(nash_review))"
   ]
  },
  {
   "cell_type": "code",
   "execution_count": null,
   "id": "34902afd-4940-4c89-a6c3-55b05c32ef8d",
   "metadata": {},
   "outputs": [],
   "source": [
    "minof30ni['minimum_nights'].min()"
   ]
  },
  {
   "cell_type": "code",
   "execution_count": null,
   "id": "8b0d33d9-37b3-4810-a7c2-3cd135dabed2",
   "metadata": {},
   "outputs": [],
   "source": [
    "maxminof30ni =minof30ni.loc[minof30ni['minimum_nights'] == 730]\n",
    "maxminof30ni['price']"
   ]
  },
  {
   "cell_type": "code",
   "execution_count": null,
   "id": "35711232-1acc-4417-8bba-972b602b97ec",
   "metadata": {
    "scrolled": true
   },
   "outputs": [],
   "source": [
    "nash_neighbors = pd.read_csv('../data/neighbourhoods.csv')\n",
    "nash_neighbors"
   ]
  },
  {
   "cell_type": "code",
   "execution_count": null,
   "id": "5f5546ab-25d8-44eb-96ba-3360d95ef150",
   "metadata": {},
   "outputs": [],
   "source": [
    "##parksgpd['lng'] = parksgpd.geometry.centroid.x\n",
    "##parksgpd['lat']= parksgpd.geometry.centroid.y\n",
    "##parksgpd"
   ]
  },
  {
   "cell_type": "code",
   "execution_count": null,
   "id": "01d73308-7661-4375-abb8-f456dabb8b06",
   "metadata": {},
   "outputs": [],
   "source": [
    "zillow_list = pd.read_csv('../data/zillow.csv')"
   ]
  },
  {
   "cell_type": "code",
   "execution_count": null,
   "id": "4d642f54-f99b-43ea-a57b-a1ab031b3821",
   "metadata": {},
   "outputs": [],
   "source": [
    "zillow_list"
   ]
  },
  {
   "cell_type": "code",
   "execution_count": null,
   "id": "90292d79-60bf-4c19-98fd-1acd771621f8",
   "metadata": {},
   "outputs": [],
   "source": [
    "nash_zillow = zillow_list.loc[zillow_list['City']== 'Nashville']\n",
    "nash_zillow"
   ]
  },
  {
   "cell_type": "code",
   "execution_count": null,
   "id": "66c20e56-1f4a-4dff-9335-42b080fdbf69",
   "metadata": {},
   "outputs": [],
   "source": [
    "zillow_list.info(verbose=True, show_counts=True)"
   ]
  },
  {
   "cell_type": "code",
   "execution_count": null,
   "id": "8ea37eec-f93f-4b9e-b855-e38a0359fa66",
   "metadata": {},
   "outputs": [],
   "source": [
    "incidents = pd.read_csv('../data/incidents.csv')"
   ]
  },
  {
   "cell_type": "code",
   "execution_count": null,
   "id": "f3636a85-bdb8-41f2-90d8-9bb881f0b3e6",
   "metadata": {},
   "outputs": [],
   "source": [
    "latnlongairbnb = pd.read_csv('../data/latnlongairbnb.csv')\n",
    "latnlongairbnb"
   ]
  },
  {
   "cell_type": "code",
   "execution_count": null,
   "id": "3176b849-576e-4a3b-9ec7-ee92acd4904b",
   "metadata": {},
   "outputs": [],
   "source": [
    "# Set up geolocator\n",
    "##geolocator = Nominatim(user_agent=\"zip_code_lookup\")\n",
    "##reverse = RateLimiter(geolocator.reverse, min_delay_seconds=1)\n",
    "\n",
    "# Function to get ZIP code from coordinates\n",
    "##def get_zipcode(lat, lon):\n",
    "  #  try:\n",
    "   #     location = reverse((lat, lon), exactly_one=True)\n",
    "    #    if location and 'postcode' in location.raw['address']:\n",
    "     #       return location.raw['address']['postcode']\n",
    "    #except:\n",
    "     #   return None\n",
    "    #return None\n",
    "\n",
    "# Apply to dataframe\n",
    "#minof30ni['zipcode'] = minof30ni.apply(\n",
    " #   lambda row: get_zipcode(row['latitude'], row['longitude']) if pd.notnull(row['latitude']) and pd.notnull(row['longitude']) else None,\n",
    "  #  axis=1\n",
    "#)\n",
    "\n",
    "# Save updated file\n",
    "#output_file = \"minof30ni_with_zip.csv\"\n",
    "#minof30ni.to_csv(output_file, index=False)\n",
    "#print(f\"ZIP codes added. File saved as {output_file}\")"
   ]
  },
  {
   "cell_type": "code",
   "execution_count": null,
   "id": "1e2c24e6-f036-48be-9afe-2413bc4f8cbe",
   "metadata": {},
   "outputs": [],
   "source": [
    "min30ni_zip = pd.read_csv('../data/minof30ni_with_zip.csv')"
   ]
  },
  {
   "cell_type": "code",
   "execution_count": null,
   "id": "0a4901c1-e28a-4f91-8eec-6dcb6ead59bd",
   "metadata": {},
   "outputs": [],
   "source": [
    "min30ni_zip"
   ]
  },
  {
   "cell_type": "code",
   "execution_count": null,
   "id": "19462b33-7e97-4ad4-98c7-ce66d9f780bd",
   "metadata": {},
   "outputs": [],
   "source": []
  },
  {
   "cell_type": "code",
   "execution_count": null,
   "id": "0bfdb935-4318-4a95-b918-e458d0156195",
   "metadata": {},
   "outputs": [],
   "source": [
    "incidents.info()"
   ]
  },
  {
   "cell_type": "code",
   "execution_count": null,
   "id": "20869251-4ac8-4d76-a9fe-a942fc59fe4a",
   "metadata": {},
   "outputs": [],
   "source": [
    "incidents['ZIP_Code'].unique()"
   ]
  },
  {
   "cell_type": "code",
   "execution_count": null,
   "id": "32f15908-3a7b-4d8d-908e-4fbfb5fd360d",
   "metadata": {},
   "outputs": [],
   "source": [
    "min30ni_zip['zipcode'].unique()"
   ]
  },
  {
   "cell_type": "code",
   "execution_count": null,
   "id": "9333e9f3-c0c0-40cf-bbfe-4551275e0636",
   "metadata": {},
   "outputs": [],
   "source": [
    "nash_zillow['RegionName'].unique()"
   ]
  },
  {
   "cell_type": "code",
   "execution_count": null,
   "id": "d54bba94-5c77-43fd-b66d-d2e08ab5e454",
   "metadata": {},
   "outputs": [],
   "source": [
    "nash_min30 = min30ni_zip[min30ni_zip['zipcode'].isin(nash_zillow['RegionName'])]\n",
    "nash_min30['zipcode'].unique()"
   ]
  },
  {
   "cell_type": "code",
   "execution_count": null,
   "id": "462e7118-770d-483c-a027-c3330b67500f",
   "metadata": {},
   "outputs": [],
   "source": [
    "min30ni_zip"
   ]
  },
  {
   "cell_type": "code",
   "execution_count": null,
   "id": "8fb700bf-8e7c-4982-8ed2-c2c484475e67",
   "metadata": {},
   "outputs": [],
   "source": [
    "minof30ni_zip = minof30ni_zip.drop(columns='price')"
   ]
  },
  {
   "cell_type": "code",
   "execution_count": null,
   "id": "f507a092-8daa-441f-83a6-65457536795e",
   "metadata": {},
   "outputs": [],
   "source": [
    "price_for_rent = pd.read_csv('../data/price_per30ni.csv')"
   ]
  },
  {
   "cell_type": "code",
   "execution_count": null,
   "id": "1878b94b-b15f-4db5-996c-f1e62dd63612",
   "metadata": {},
   "outputs": [],
   "source": [
    "price_for_rent"
   ]
  },
  {
   "cell_type": "code",
   "execution_count": null,
   "id": "21d3aa5e-da9b-4b12-970e-cf4d3529c4ba",
   "metadata": {},
   "outputs": [],
   "source": [
    "price_min_30ni = pd.merge(nash_min30, price_for_rent, on=['id'])"
   ]
  },
  {
   "cell_type": "code",
   "execution_count": null,
   "id": "0a3770b7-029c-4803-b1f7-0240aa61f752",
   "metadata": {},
   "outputs": [],
   "source": [
    "price_min_30ni"
   ]
  },
  {
   "cell_type": "code",
   "execution_count": null,
   "id": "4fbd0baa-cdba-4ceb-96c2-da3dff719351",
   "metadata": {},
   "outputs": [],
   "source": []
  },
  {
   "cell_type": "code",
   "execution_count": null,
   "id": "794b1450-3915-4e8d-a9d0-889e69f07392",
   "metadata": {},
   "outputs": [],
   "source": []
  },
  {
   "cell_type": "code",
   "execution_count": null,
   "id": "1f00dd14-1931-4c51-a934-01687ce923eb",
   "metadata": {},
   "outputs": [],
   "source": []
  }
 ],
 "metadata": {
  "kernelspec": {
   "display_name": "Python [conda env:base] *",
   "language": "python",
   "name": "conda-base-py"
  },
  "language_info": {
   "codemirror_mode": {
    "name": "ipython",
    "version": 3
   },
   "file_extension": ".py",
   "mimetype": "text/x-python",
   "name": "python",
   "nbconvert_exporter": "python",
   "pygments_lexer": "ipython3",
   "version": "3.12.7"
  }
 },
 "nbformat": 4,
 "nbformat_minor": 5
}
